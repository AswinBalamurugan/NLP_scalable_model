{
 "cells": [
  {
   "cell_type": "code",
   "execution_count": 13,
   "metadata": {},
   "outputs": [],
   "source": [
    "import pandas as pd\n",
    "import numpy as np\n",
    "import seaborn as sns"
   ]
  },
  {
   "cell_type": "code",
   "execution_count": 14,
   "metadata": {},
   "outputs": [
    {
     "data": {
      "text/html": [
       "<div>\n",
       "<style scoped>\n",
       "    .dataframe tbody tr th:only-of-type {\n",
       "        vertical-align: middle;\n",
       "    }\n",
       "\n",
       "    .dataframe tbody tr th {\n",
       "        vertical-align: top;\n",
       "    }\n",
       "\n",
       "    .dataframe thead th {\n",
       "        text-align: right;\n",
       "    }\n",
       "</style>\n",
       "<table border=\"1\" class=\"dataframe\">\n",
       "  <thead>\n",
       "    <tr style=\"text-align: right;\">\n",
       "      <th></th>\n",
       "      <th>response_id</th>\n",
       "      <th>class</th>\n",
       "      <th>response_text</th>\n",
       "      <th>Unnamed: 3</th>\n",
       "      <th>Unnamed: 4</th>\n",
       "      <th>Unnamed: 5</th>\n",
       "      <th>Unnamed: 6</th>\n",
       "      <th>Unnamed: 7</th>\n",
       "    </tr>\n",
       "  </thead>\n",
       "  <tbody>\n",
       "    <tr>\n",
       "      <th>0</th>\n",
       "      <td>response_1</td>\n",
       "      <td>not_flagged</td>\n",
       "      <td>I try and avoid this sort of conflict</td>\n",
       "      <td>NaN</td>\n",
       "      <td>NaN</td>\n",
       "      <td>NaN</td>\n",
       "      <td>NaN</td>\n",
       "      <td>NaN</td>\n",
       "    </tr>\n",
       "    <tr>\n",
       "      <th>1</th>\n",
       "      <td>response_2</td>\n",
       "      <td>flagged</td>\n",
       "      <td>Had a friend open up to me about his mental ad...</td>\n",
       "      <td>NaN</td>\n",
       "      <td>NaN</td>\n",
       "      <td>NaN</td>\n",
       "      <td>NaN</td>\n",
       "      <td>NaN</td>\n",
       "    </tr>\n",
       "    <tr>\n",
       "      <th>2</th>\n",
       "      <td>response_3</td>\n",
       "      <td>flagged</td>\n",
       "      <td>I saved a girl from suicide once. She was goin...</td>\n",
       "      <td>NaN</td>\n",
       "      <td>NaN</td>\n",
       "      <td>NaN</td>\n",
       "      <td>NaN</td>\n",
       "      <td>NaN</td>\n",
       "    </tr>\n",
       "    <tr>\n",
       "      <th>3</th>\n",
       "      <td>response_4</td>\n",
       "      <td>not_flagged</td>\n",
       "      <td>i cant think of one really...i think i may hav...</td>\n",
       "      <td>NaN</td>\n",
       "      <td>NaN</td>\n",
       "      <td>NaN</td>\n",
       "      <td>NaN</td>\n",
       "      <td>NaN</td>\n",
       "    </tr>\n",
       "    <tr>\n",
       "      <th>4</th>\n",
       "      <td>response_5</td>\n",
       "      <td>not_flagged</td>\n",
       "      <td>Only really one friend who doesn't fit into th...</td>\n",
       "      <td></td>\n",
       "      <td>NaN</td>\n",
       "      <td>NaN</td>\n",
       "      <td>NaN</td>\n",
       "      <td>NaN</td>\n",
       "    </tr>\n",
       "  </tbody>\n",
       "</table>\n",
       "</div>"
      ],
      "text/plain": [
       "  response_id        class                                      response_text  \\\n",
       "0  response_1  not_flagged              I try and avoid this sort of conflict   \n",
       "1  response_2      flagged  Had a friend open up to me about his mental ad...   \n",
       "2  response_3      flagged  I saved a girl from suicide once. She was goin...   \n",
       "3  response_4  not_flagged  i cant think of one really...i think i may hav...   \n",
       "4  response_5  not_flagged  Only really one friend who doesn't fit into th...   \n",
       "\n",
       "  Unnamed: 3  Unnamed: 4 Unnamed: 5  Unnamed: 6 Unnamed: 7  \n",
       "0        NaN         NaN        NaN         NaN        NaN  \n",
       "1        NaN         NaN        NaN         NaN        NaN  \n",
       "2        NaN         NaN        NaN         NaN        NaN  \n",
       "3        NaN         NaN        NaN         NaN        NaN  \n",
       "4                    NaN        NaN         NaN        NaN  "
      ]
     },
     "execution_count": 14,
     "metadata": {},
     "output_type": "execute_result"
    }
   ],
   "source": [
    "df = pd.read_csv('Sheet.csv')\n",
    "df.head()"
   ]
  },
  {
   "cell_type": "markdown",
   "metadata": {},
   "source": [
    "# Exploring the Data"
   ]
  },
  {
   "cell_type": "code",
   "execution_count": 15,
   "metadata": {},
   "outputs": [
    {
     "name": "stdout",
     "output_type": "stream",
     "text": [
      "class            0\n",
      "response_text    0\n",
      "dtype: int64\n"
     ]
    },
    {
     "data": {
      "text/html": [
       "<div>\n",
       "<style scoped>\n",
       "    .dataframe tbody tr th:only-of-type {\n",
       "        vertical-align: middle;\n",
       "    }\n",
       "\n",
       "    .dataframe tbody tr th {\n",
       "        vertical-align: top;\n",
       "    }\n",
       "\n",
       "    .dataframe thead th {\n",
       "        text-align: right;\n",
       "    }\n",
       "</style>\n",
       "<table border=\"1\" class=\"dataframe\">\n",
       "  <thead>\n",
       "    <tr style=\"text-align: right;\">\n",
       "      <th></th>\n",
       "      <th>class</th>\n",
       "      <th>response_text</th>\n",
       "    </tr>\n",
       "  </thead>\n",
       "  <tbody>\n",
       "    <tr>\n",
       "      <th>0</th>\n",
       "      <td>not_flagged</td>\n",
       "      <td>I try and avoid this sort of conflict</td>\n",
       "    </tr>\n",
       "    <tr>\n",
       "      <th>1</th>\n",
       "      <td>flagged</td>\n",
       "      <td>Had a friend open up to me about his mental ad...</td>\n",
       "    </tr>\n",
       "    <tr>\n",
       "      <th>2</th>\n",
       "      <td>flagged</td>\n",
       "      <td>I saved a girl from suicide once. She was goin...</td>\n",
       "    </tr>\n",
       "    <tr>\n",
       "      <th>3</th>\n",
       "      <td>not_flagged</td>\n",
       "      <td>i cant think of one really...i think i may hav...</td>\n",
       "    </tr>\n",
       "    <tr>\n",
       "      <th>4</th>\n",
       "      <td>not_flagged</td>\n",
       "      <td>Only really one friend who doesn't fit into th...</td>\n",
       "    </tr>\n",
       "  </tbody>\n",
       "</table>\n",
       "</div>"
      ],
      "text/plain": [
       "         class                                      response_text\n",
       "0  not_flagged              I try and avoid this sort of conflict\n",
       "1      flagged  Had a friend open up to me about his mental ad...\n",
       "2      flagged  I saved a girl from suicide once. She was goin...\n",
       "3  not_flagged  i cant think of one really...i think i may hav...\n",
       "4  not_flagged  Only really one friend who doesn't fit into th..."
      ]
     },
     "execution_count": 15,
     "metadata": {},
     "output_type": "execute_result"
    }
   ],
   "source": [
    "df = pd.concat([df['class'],df['response_text']],axis=1)\n",
    "print(df.isnull().sum())\n",
    "df.head()"
   ]
  },
  {
   "cell_type": "code",
   "execution_count": 16,
   "metadata": {},
   "outputs": [
    {
     "data": {
      "text/html": [
       "<div>\n",
       "<style scoped>\n",
       "    .dataframe tbody tr th:only-of-type {\n",
       "        vertical-align: middle;\n",
       "    }\n",
       "\n",
       "    .dataframe tbody tr th {\n",
       "        vertical-align: top;\n",
       "    }\n",
       "\n",
       "    .dataframe thead th {\n",
       "        text-align: right;\n",
       "    }\n",
       "</style>\n",
       "<table border=\"1\" class=\"dataframe\">\n",
       "  <thead>\n",
       "    <tr style=\"text-align: right;\">\n",
       "      <th></th>\n",
       "      <th>class</th>\n",
       "      <th>response_text</th>\n",
       "    </tr>\n",
       "  </thead>\n",
       "  <tbody>\n",
       "    <tr>\n",
       "      <th>0</th>\n",
       "      <td>0</td>\n",
       "      <td>I try and avoid this sort of conflict</td>\n",
       "    </tr>\n",
       "    <tr>\n",
       "      <th>1</th>\n",
       "      <td>1</td>\n",
       "      <td>Had a friend open up to me about his mental ad...</td>\n",
       "    </tr>\n",
       "    <tr>\n",
       "      <th>2</th>\n",
       "      <td>1</td>\n",
       "      <td>I saved a girl from suicide once. She was goin...</td>\n",
       "    </tr>\n",
       "    <tr>\n",
       "      <th>3</th>\n",
       "      <td>0</td>\n",
       "      <td>i cant think of one really...i think i may hav...</td>\n",
       "    </tr>\n",
       "    <tr>\n",
       "      <th>4</th>\n",
       "      <td>0</td>\n",
       "      <td>Only really one friend who doesn't fit into th...</td>\n",
       "    </tr>\n",
       "  </tbody>\n",
       "</table>\n",
       "</div>"
      ],
      "text/plain": [
       "   class                                      response_text\n",
       "0      0              I try and avoid this sort of conflict\n",
       "1      1  Had a friend open up to me about his mental ad...\n",
       "2      1  I saved a girl from suicide once. She was goin...\n",
       "3      0  i cant think of one really...i think i may hav...\n",
       "4      0  Only really one friend who doesn't fit into th..."
      ]
     },
     "execution_count": 16,
     "metadata": {},
     "output_type": "execute_result"
    }
   ],
   "source": [
    "df['class'] = df['class'].replace({'not_flagged':0,'flagged':1})\n",
    "df.head()"
   ]
  },
  {
   "cell_type": "code",
   "execution_count": 17,
   "metadata": {},
   "outputs": [
    {
     "data": {
      "text/plain": [
       "<AxesSubplot:xlabel='class', ylabel='count'>"
      ]
     },
     "execution_count": 17,
     "metadata": {},
     "output_type": "execute_result"
    },
    {
     "data": {
      "image/png": "[encoded data removed]",
      "text/plain": [
       "<Figure size 432x288 with 1 Axes>"
      ]
     },
     "metadata": {
      "needs_background": "light"
     },
     "output_type": "display_data"
    }
   ],
   "source": [
    "sns.countplot(x=df['class'])"
   ]
  },
  {
   "cell_type": "code",
   "execution_count": 18,
   "metadata": {},
   "outputs": [
    {
     "name": "stderr",
     "output_type": "stream",
     "text": [
      "[nltk_data] Downloading package wordnet to /Users/aswin/nltk_data...\n",
      "[nltk_data]   Package wordnet is already up-to-date!\n",
      "[nltk_data] Downloading package omw-1.4 to /Users/aswin/nltk_data...\n",
      "[nltk_data]   Package omw-1.4 is already up-to-date!\n",
      "[nltk_data] Downloading package punkt to /Users/aswin/nltk_data...\n",
      "[nltk_data]   Package punkt is already up-to-date!\n"
     ]
    },
    {
     "data": {
      "text/plain": [
       "True"
      ]
     },
     "execution_count": 18,
     "metadata": {},
     "output_type": "execute_result"
    }
   ],
   "source": [
    "import re\n",
    "import nltk\n",
    "from nltk.corpus import stopwords\n",
    "nltk.download('wordnet')\n",
    "nltk.download('omw-1.4')\n",
    "nltk.download('punkt')"
   ]
  },
  {
   "cell_type": "markdown",
   "metadata": {},
   "source": [
    "# Processing the Sentences"
   ]
  },
  {
   "cell_type": "code",
   "execution_count": 7,
   "metadata": {},
   "outputs": [],
   "source": [
    "import nltk as nlp\n",
    "\n",
    "processed_sentences = []\n",
    "for sentence in df['response_text']:\n",
    "    \n",
    "    # removing non-letter symbols and then lowercasing the letters\n",
    "    sentence = re.sub(\"[^a-zA-Z]\",\" \",sentence)\n",
    "    sentence = sentence.lower()\n",
    "\n",
    "    # splitting the sentence to words using tokenize and then filtering out the stopwords\n",
    "    sentence = nltk.word_tokenize(sentence)\n",
    "    sentence = [word for word in sentence if word not in set(stopwords.words('english'))]\n",
    "\n",
    "    # using lemmatizer to convert the words to their base form and then joining the words to get back the sentence\n",
    "    lemm = nlp.WordNetLemmatizer()\n",
    "    sentence = ' '.join([lemm.lemmatize(word) for word in sentence])\n",
    "\n",
    "    processed_sentences.append(sentence)"
   ]
  },
  {
   "cell_type": "code",
   "execution_count": 8,
   "metadata": {},
   "outputs": [
    {
     "name": "stdout",
     "output_type": "stream",
     "text": [
      "Most frequently used 500 words ['able', 'absolutely', 'acquaintance', 'acted', 'action', 'activity', 'addiction', 'adequate', 'admit', 'advice', 'advise', 'age', 'ago', 'agony', 'alcoholic', 'allowed', 'anniversary', 'answer', 'anxiety', 'anxious', 'apposed', 'ask', 'asks', 'attention', 'aunt', 'avoid', 'away', 'bad', 'basically', 'bedroom', 'best', 'better', 'big', 'bit', 'blow', 'blue', 'blunt', 'book', 'boyfriend', 'break', 'bring', 'brother', 'brought', 'bunch', 'called', 'calling', 'calm', 'came', 'camp', 'camping', 'campsite', 'cancer', 'car', 'care', 'caring', 'category', 'caught', 'cause', 'chance', 'change', 'changed', 'chat', 'circumstance', 'clean', 'cleaning', 'cocaine', 'come', 'comfort', 'comforted', 'commit', 'common', 'complete', 'completely', 'concern', 'confines', 'conflict', 'convinced', 'cop', 'cope', 'counselor', 'countless', 'couple', 'crazy', 'cutter', 'cutting', 'damn', 'dating', 'day', 'dealing', 'dealt', 'death', 'defined', 'depressed', 'depression', 'describes', 'desire', 'diagnosed', 'dialog', 'difficulty', 'disorder', 'doc', 'dont', 'douche', 'drag', 'drove', 'drug', 'dump', 'dumped', 'dying', 'ear', 'earlier', 'email', 'emotional', 'encourage', 'end', 'ended', 'entire', 'essential', 'esteem', 'eventually', 'everyday', 'ex', 'example', 'excited', 'experience', 'express', 'expressing', 'extremely', 'face', 'facebook', 'faced', 'facing', 'fact', 'fairly', 'family', 'father', 'feel', 'feeling', 'fell', 'felt', 'fight', 'fit', 'fixed', 'flicker', 'focus', 'friend', 'frustrated', 'gave', 'ged', 'gf', 'girl', 'girlfriend', 'giving', 'goal', 'going', 'gone', 'good', 'got', 'grade', 'grandmother', 'guess', 'guy', 'hadnt', 'haha', 'half', 'hand', 'happens', 'hard', 'harmed', 'head', 'healing', 'health', 'hear', 'heard', 'help', 'helped', 'helpful', 'helping', 'hesitate', 'high', 'hit', 'hold', 'home', 'homeless', 'honest', 'hood', 'hope', 'hoping', 'horrable', 'hospital', 'hour', 'house', 'huge', 'human', 'hung', 'hurt', 'idk', 'important', 'indirectly', 'ing', 'initiated', 'innermost', 'input', 'inside', 'intense', 'internet', 'irl', 'isolated', 'issue', 'jokingly', 'judge', 'junior', 'kid', 'kill', 'killed', 'kind', 'kindness', 'knew', 'know', 'knowledge', 'known', 'lack', 'late', 'laugh', 'le', 'lent', 'let', 'letting', 'level', 'life', 'light', 'like', 'line', 'listen', 'listened', 'listener', 'listening', 'little', 'living', 'logical', 'long', 'look', 'looked', 'losing', 'loss', 'lost', 'lot', 'loving', 'low', 'major', 'make', 'making', 'managed', 'maybe', 'memorial', 'men', 'mental', 'met', 'method', 'mind', 'mom', 'month', 'mother', 'mt', 'nah', 'naturally', 'necessarily', 'need', 'needed', 'nervous', 'nice', 'night', 'normal', 'number', 'objective', 'obtain', 'occurrence', 'od', 'offer', 'offered', 'oh', 'ok', 'open', 'openness', 'overcome', 'packed', 'parent', 'past', 'path', 'peace', 'people', 'perfect', 'period', 'person', 'personal', 'physical', 'picked', 'pill', 'positive', 'possible', 'possibly', 'pretty', 'probably', 'problem', 'progress', 'promised', 'provide', 'psych', 'pulled', 'purpose', 'qualified', 'question', 'quite', 'rant', 'rational', 'reading', 'reality', 'realize', 'really', 'recovery', 'refers', 'reflect', 'rehab', 'rejected', 'rejecting', 'relate', 'related', 'relationship', 'relief', 'remember', 'remind', 'remote', 'resource', 'respect', 'restless', 'result', 'roommate', 'rude', 'sad', 'said', 'saved', 'saw', 'say', 'saying', 'school', 'schoolwork', 'self', 'sense', 'set', 'severe', 'share', 'shared', 'sharing', 'shelter', 'shit', 'shortly', 'sign', 'similar', 'simply', 'sister', 'situation', 'skipped', 'slightly', 'slowly', 'somebody', 'sort', 'speak', 'specific', 'specifically', 'spent', 'spiraling', 'spot', 'stability', 'start', 'started', 'stayed', 'stopped', 'story', 'stranger', 'struggle', 'struggling', 'stuff', 'subject', 'suffer', 'suicidal', 'suicide', 'summer', 'super', 'support', 'supporting', 'supportive', 'sure', 'surfing', 'survival', 'sustained', 'swallow', 'swaying', 'swimming', 'switch', 'switched', 'taken', 'taking', 'talk', 'talked', 'talking', 'teacher', 'tell', 'telling', 'thankgiving', 'thats', 'therapist', 'therapy', 'theripist', 'thing', 'think', 'thinking', 'thought', 'threw', 'till', 'time', 'told', 'took', 'tough', 'trapped', 'treat', 'treatment', 'tried', 'trouble', 'troubled', 'truth', 'try', 'tryin', 'trying', 'tunnel', 'turmoil', 'tutor', 'twice', 'type', 'understand', 'unfortunately', 'unless', 'used', 'using', 'vent', 'verge', 'virgity', 'visited', 'walked', 'want', 'wanted', 'ward', 'way', 'weed', 'week', 'went', 'wood', 'work', 'worked', 'write', 'year', 'yearbook']\n"
     ]
    }
   ],
   "source": [
    "from sklearn.feature_extraction.text import CountVectorizer\n",
    "max_feature = 500\n",
    "\n",
    "cv = CountVectorizer(max_features=max_feature, stop_words='english')\n",
    "matrix = cv.fit_transform(processed_sentences).toarray()\n",
    "\n",
    "print(\"Most frequently used {} words {}\".format(max_feature, cv.get_feature_names()))"
   ]
  },
  {
   "cell_type": "markdown",
   "metadata": {},
   "source": [
    "# Applying XGBoost Classifier"
   ]
  },
  {
   "cell_type": "code",
   "execution_count": 9,
   "metadata": {},
   "outputs": [],
   "source": [
    "X = matrix\n",
    "y = df['class'].values"
   ]
  },
  {
   "cell_type": "code",
   "execution_count": 10,
   "metadata": {},
   "outputs": [
    {
     "name": "stdout",
     "output_type": "stream",
     "text": [
      "[[0 0 0 ... 0 0 0]\n",
      " [0 0 0 ... 0 0 0]\n",
      " [0 0 0 ... 0 0 0]\n",
      " ...\n",
      " [0 0 0 ... 0 0 0]\n",
      " [0 0 0 ... 0 0 0]\n",
      " [0 0 0 ... 0 0 0]] \n",
      "\n",
      "[0 1 1 0 0 0 1 1 0 1 0 1 0 0 0 1 0 0 0 0 0 1 1 0 0 1 1 0 1 0 0 0 0 0 0 0 1\n",
      " 0 1 0 1 0 0 0 0 0 0 0 1 0 0 1 0 0 0 0 0 1 0 1 0 1 0 0 1 0 0 0 0 0 0 0 1 0\n",
      " 1 0 1 0 1 0]\n"
     ]
    }
   ],
   "source": [
    "print(X,'\\n')\n",
    "print(y)"
   ]
  },
  {
   "cell_type": "code",
   "execution_count": 11,
   "metadata": {},
   "outputs": [],
   "source": [
    "from sklearn.model_selection import train_test_split\n",
    "\n",
    "X_train, X_test, y_train, y_test = train_test_split(X, y, test_size=0.2, random_state=42)"
   ]
  },
  {
   "cell_type": "code",
   "execution_count": 12,
   "metadata": {},
   "outputs": [
    {
     "name": "stdout",
     "output_type": "stream",
     "text": [
      "Train Accuracy:  0.890625\n",
      "Test Accuracy:  0.75\n"
     ]
    }
   ],
   "source": [
    "from xgboost import XGBClassifier\n",
    "from sklearn.metrics import accuracy_score\n",
    "\n",
    "xgb = XGBClassifier(use_label_encoder=False,eval_metric='error').fit(X_train,y_train)\n",
    "\n",
    "pred_xgb_train = xgb.predict(X_train)\n",
    "pred_xgb = xgb.predict(X_test)\n",
    "\n",
    "print('Train Accuracy: ',accuracy_score(y_train,pred_xgb_train))\n",
    "print('Test Accuracy: ',accuracy_score(y_test,pred_xgb))"
   ]
  }
 ],
 "metadata": {
  "kernelspec": {
   "display_name": "Python 3.8.8 ('base')",
   "language": "python",
   "name": "python3"
  },
  "language_info": {
   "codemirror_mode": {
    "name": "ipython",
    "version": 3
   },
   "file_extension": ".py",
   "mimetype": "text/x-python",
   "name": "python",
   "nbconvert_exporter": "python",
   "pygments_lexer": "ipython3",
   "version": "3.8.8"
  },
  "orig_nbformat": 4,
  "vscode": {
   "interpreter": {
    "hash": "1b4ada098d133e6ba3690b75a455668b4b88820b75d97973ca15abfc2b612c9a"
   }
  }
 },
 "nbformat": 4,
 "nbformat_minor": 2
}
